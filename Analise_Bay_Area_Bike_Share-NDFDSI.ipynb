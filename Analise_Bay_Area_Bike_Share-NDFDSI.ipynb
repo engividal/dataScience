{
 "cells": [
  {
   "cell_type": "markdown",
   "metadata": {},
   "source": [
    "# Análise da Bay Area Bike Share\n",
    "\n",
    "## Introdução\n",
    "\n",
    "> **Dica**: Seções citadas como esta fornecerão instruções úteis sobre como navegar e usar um notebook do iPython.\n",
    "\n",
    "[Bay Area Bike Share](http://www.bayareabikeshare.com/) é uma empresa que oferece aluguel de bicicletas on-demand para clientes em San Francisco, Redwood City, Palo Alto, Mountain View e San Jose. Os usuários podem desbloquear bicicletas de uma variedade de estações em cada cidade, e devolvê-las em qualquer estação dentro da mesma cidade. Os usuários pagam o serviço por meio de assinatura anual ou pela compra de passes de 3 dias ou 24 horas. Os usuários podem fazer um número ilimitado de viagens. Viagens com menos de trinta minutos de duração não têm custo adicional; Viagens mais longas incorrem em taxas de horas extras.\n",
    "\n",
    "Neste projeto, você vai se colocar no lugar de um analista de dados realizando uma análise exploratória sobre os dados. Você vai dar uma olhada em duas das principais partes do processo de análise de dados: limpeza de dados e análise exploratória. Mas antes que você comece a olhar os dados, pense algumas perguntas que você pode querer fazer sobre os dados. Considere, por exemplo, se você estivesse trabalhando para Bay Area Bike Share: que tipo de informação você gostaria de saber a fim de tomar decisões de negócios mais inteligentes? Ou você pode pensar se você fosse um usuário do serviço de compartilhamento de bicicletas. Que fatores podem influenciar a maneira como você gostaria de usar o serviço?"
   ]
  },
  {
   "cell_type": "markdown",
   "metadata": {},
   "source": [
    "# Sobre este projeto\n",
    "\n",
    "Este é o seu primeiro projeto com a Udacity. Queremos fazer com que você treine os conhecimentos aprendidos durante o curso e que entenda algumas das dificuldades que pode ter quando for aplicar os mesmos. \n",
    "\n",
    "Os principais pontos que serão verificados neste trabalho:\n",
    "\n",
    "- Criação de dicionários e mapeamento de variáveis\n",
    "- Uso de lógica com o `if`\n",
    "- Manipulação de dados e criação de gráficos simples com o `Pandas`\n",
    "\n",
    "*Como conseguir ajuda*: Sugerimos que tente os seguintes canais, nas seguintes ordens:\n",
    "\n",
    "| Tipo de dúvida\\Canais         \t| Google \t| Fórum \t| Slack \t| Email \t|\n",
    "|-------------------------------\t|--------\t|-------\t|-------\t|-------\t|\n",
    "| Programação Pyhon e Pandas    \t| 1      \t| 2     \t| 3     \t|       \t|\n",
    "| Requisitos do projeto         \t|        \t| 1     \t| 2     \t| 3     \t|\n",
    "| Partes específicas do Projeto \t|        \t| 1     \t| 2     \t| 3     \t|\n",
    "\n",
    "Os endereços dos canais são:\n",
    "\n",
    "- Fórum: https://discussions.udacity.com/c/ndfdsi-project\n",
    "- Slack: [udacity-br.slack.com](https://udacity-br.slack.com/messages/C5MT6E3E1)\n",
    "- Email: data-suporte@udacity.com\n",
    "\n",
    "**Espera-se que o estudante entregue este relatório com:**\n",
    "\n",
    "- Todos os TODO feitos, pois eles são essenciais para que o código rode corretamente\n",
    "- Todas as perguntas respondidas. Elas estão identificadas como PERGUNTA em letras grandes.\n",
    "\n",
    "Para entregar este projeto, vá a [sala de aula](https://classroom.udacity.com/nanodegrees/nd110/parts/05e3b1e2-ff23-488f-aaec-caba12ad8ed3/modules/519425b3-ee26-4ecd-a952-f689decef51c/lessons/47133342-a203-4df9-9b9e-69b04408e089/project) e submeta o seu `.ipynb` e um pdf, zipados."
   ]
  },
  {
   "cell_type": "markdown",
   "metadata": {},
   "source": [
    "# Pergunta 1\n",
    "Escreva pelo menos duas perguntas que você acha que poderiam ser respondidas usando os dados."
   ]
  },
  {
   "cell_type": "markdown",
   "metadata": {},
   "source": [
    "**Resposta**: Responda aqui (dê dois cliques para editar)\n",
    "\n",
    "> **Dica**: Se você clicar duas vezes nesta célula, você verá o texto se alterar removendo toda a formatação. Isso permite editar este bloco de texto. Este bloco de texto é escrito usando [Markdown](http://daringfireball.net/projects/markdown/syntax), que é uma forma de formatar texto usando cabeçalhos, links, itálico e muitas outras opções. Pressione **Shift** + **Enter** ou **Shift** + **Retorno** para voltar a mostrar o texto formatado.\n",
    "\n",
    "* Quais dos anos há menor número de empréstimos?\n",
    "* Qual impacto nos empréstimos em dias chuvosos?\n",
    "* Qual a relação entre os tipos de assinatura e o tamanho do percurso?</li>\n"
   ]
  },
  {
   "cell_type": "markdown",
   "metadata": {},
   "source": [
    "## Usando visualizações para comunicar resultados em dados\n",
    "\n",
    "Como um analista de dados, a capacidade de comunicar eficazmente resultados é uma parte fundamental do trabalho. Afinal, sua melhor análise é tão boa quanto sua capacidade de comunicá-la.\n",
    "\n",
    "Em 2014, Bay Area Bike Share realizou um [Open Data Challenge](http://www.bayareabikeshare.com/datachallenge-2014) para incentivar os analistas de dados a criar visualizações com base em seu conjunto de dados aberto. Você criará suas próprias visualizações neste projeto, mas primeiro, dê uma olhada no [vencedor de inscrições para Melhor Análise](http://thfield.github.io/babs/index.html) de Tyler Field. Leia todo o relatório para responder à seguinte pergunta:"
   ]
  },
  {
   "cell_type": "markdown",
   "metadata": {},
   "source": [
    "# Pergunta 2\n",
    "Que visualizações você acha que fornecem as idéias mais interessantes? \n",
    "\n",
    "Selecione duas visualizações de Tyler que forneçam idéias interessantes e que respondam alguma das perguntas da análise de Tyler."
   ]
  },
  {
   "cell_type": "markdown",
   "metadata": {},
   "source": [
    "** Resposta **: Rides by Weekday e Rides by Hour "
   ]
  },
  {
   "cell_type": "markdown",
   "metadata": {},
   "source": [
    "# Pergunta 2.1\n",
    "\n",
    "Quais são as perguntas que foram respondidas com suas visualizações? Porque você as escolheu?"
   ]
  },
  {
   "cell_type": "markdown",
   "metadata": {},
   "source": [
    "** Resposta **: Com essas duas vizualizações pude responder as seguintes perguntas:\n",
    "* Qual impacto nos empréstimos em dias chuvosos?\n",
    "* Qual a relação entre os tipos de assinatura e o tamanho do percurso?"
   ]
  },
  {
   "cell_type": "markdown",
   "metadata": {},
   "source": [
    "## Data Wrangling (Limpeza de Dados)\n",
    "\n",
    "Agora é a sua vez de explorar os dados. Os [dados abertos](http://www.bayareabikeshare.com/open-data) do Ano 1 e do Ano 2 da página Bay Area Bike Share já foram fornecidos com os materiais do projeto; você não precisa baixar nada extra. O dado vem em três partes: a primeira metade do Ano 1 (arquivos a partir de `201402`), a segunda metade do Ano 1 (arquivos a partir de `201408`) e todo o Ano 2 (arquivos a partir de `201508`). Existem três arquivos de dados principais associados a cada parte: dados de viagem que mostram informações sobre cada viagem no sistema (`*_trip_data.csv`), informações sobre as estações no sistema (`*_station_data.csv`) e dados meteorológicos diários para cada cidade no sistema (`*_weather_data.csv`).\n",
    "\n",
    "\n",
    "Ao lidar com muitos dados, pode ser útil começar trabalhando com apenas uma amostra dos dados. Desta forma, será muito mais fácil verificar se nossos passos da limpeza de dados (Data Wrangling) estão funcionando, pois nosso código demorará menos tempo para ser concluído. Uma vez que estamos satisfeitos com a forma como funcionam as coisas, podemos configurar o processo para trabalhar no conjunto de dados como um todo.\n",
    "\n",
    "Uma vez que a maior parte dos dados está contida na informação de viagem, devemos segmentar a procura de um subconjunto dos dados da viagem para nos ajudar a seguir em frente. Você começará olhando apenas o primeiro mês dos dados da viagem de bicicleta, de 2013-08-29 a 2013-09-30. O código abaixo selecionará os dados da primeira metade do primeiro ano, então escreverá o valor do primeiro mês de dados para um arquivo de saída. Este código explora o fato de que os dados são classificados por data (note que os dois primeiros dias são classificados por tempo de viagem, em vez de serem completamente cronológicos).\n",
    "\n",
    "Primeiro, carregue todos os pacotes e funções que você usará em sua análise executando a primeira célula de código abaixo. Em seguida, execute a segunda célula de código para ler um subconjunto do primeiro arquivo de dados de viagem e escrever um novo arquivo contendo apenas o subconjunto em que inicialmente estamos interessados.\n",
    "\n",
    "> **Dica**: Você pode executar uma célula de código ou renderizar um texto em Markdown clicando na célula e usando o atalho do teclado **Shift** + **Enter** ou **Shift** + **Return**. Alternativamente, uma célula de código pode ser executada usando o botão **Play** na barra de ferramentas (a cima no IPython Notebook) depois de selecioná-la. Enquanto a célula estiver em execução, você verá um asterisco na mensagem à esquerda da célula, ou seja, `In [*]:`. O asterisco mudará para um número para mostrar que a execução foi concluída, Ex: `In [1]`. Se houver saída, ele aparecerá como `Out [1]:`, com um número apropriado para coincidir com o número de \"In\"."
   ]
  },
  {
   "cell_type": "code",
   "execution_count": 1,
   "metadata": {},
   "outputs": [],
   "source": [
    "# Importa todas as bibliotecas necessárias\n",
    "import matplotlib.pyplot as plt\n",
    "import seaborn as sns\n",
    "%matplotlib inline\n",
    "import csv\n",
    "from datetime import datetime\n",
    "import numpy as np\n",
    "import pandas as pd\n",
    "from babs_datacheck import question_3\n",
    "from babs_visualizations import usage_stats, usage_plot\n",
    "from IPython.display import display\n"
   ]
  },
  {
   "cell_type": "code",
   "execution_count": 2,
   "metadata": {},
   "outputs": [],
   "source": [
    "# definição dos arquivos\n",
    "file_in  = '201402_trip_data.csv'\n",
    "file_out = '201309_trip_data.csv'\n",
    "\n",
    "with open(file_out, 'w') as f_out, open(file_in, 'r') as f_in:\n",
    "    # configura o leitor de csv\n",
    "    in_reader = csv.reader(f_in)\n",
    "    out_writer = csv.writer(f_out)\n",
    "\n",
    "    # escreve os dados no arquivo de saída até que a data limite seja atingida\n",
    "    while True:\n",
    "        datarow = next(in_reader)\n",
    "        # data de início de das viagens na terceira coluna no formato 'm/d/yyyy HH:MM'\n",
    "        if datarow[2][:9] == '10/1/2013':\n",
    "            break\n",
    "        out_writer.writerow(datarow)"
   ]
  },
  {
   "cell_type": "markdown",
   "metadata": {},
   "source": [
    "### Condensando os Dados de Viagem\n",
    "\n",
    "O primeiro passo é analisar a estrutura do conjunto de dados para ver se há alguma limpeza de dados que devemos realizar. A célula abaixo irá ler o arquivo de dados amostrado que você criou na célula anterior. Você deve imprimir as primeiras linhas da tabela."
   ]
  },
  {
   "cell_type": "code",
   "execution_count": 3,
   "metadata": {},
   "outputs": [
    {
     "data": {
      "text/html": [
       "<div>\n",
       "<style scoped>\n",
       "    .dataframe tbody tr th:only-of-type {\n",
       "        vertical-align: middle;\n",
       "    }\n",
       "\n",
       "    .dataframe tbody tr th {\n",
       "        vertical-align: top;\n",
       "    }\n",
       "\n",
       "    .dataframe thead th {\n",
       "        text-align: right;\n",
       "    }\n",
       "</style>\n",
       "<table border=\"1\" class=\"dataframe\">\n",
       "  <thead>\n",
       "    <tr style=\"text-align: right;\">\n",
       "      <th></th>\n",
       "      <th>Trip ID</th>\n",
       "      <th>Duration</th>\n",
       "      <th>Start Date</th>\n",
       "      <th>Start Station</th>\n",
       "      <th>Start Terminal</th>\n",
       "      <th>End Date</th>\n",
       "      <th>End Station</th>\n",
       "      <th>End Terminal</th>\n",
       "      <th>Bike #</th>\n",
       "      <th>Subscription Type</th>\n",
       "      <th>Zip Code</th>\n",
       "    </tr>\n",
       "  </thead>\n",
       "  <tbody>\n",
       "    <tr>\n",
       "      <th>0</th>\n",
       "      <td>4576</td>\n",
       "      <td>63</td>\n",
       "      <td>8/29/2013 14:13</td>\n",
       "      <td>South Van Ness at Market</td>\n",
       "      <td>66</td>\n",
       "      <td>8/29/2013 14:14</td>\n",
       "      <td>South Van Ness at Market</td>\n",
       "      <td>66</td>\n",
       "      <td>520</td>\n",
       "      <td>Subscriber</td>\n",
       "      <td>94127</td>\n",
       "    </tr>\n",
       "    <tr>\n",
       "      <th>1</th>\n",
       "      <td>4607</td>\n",
       "      <td>70</td>\n",
       "      <td>8/29/2013 14:42</td>\n",
       "      <td>San Jose City Hall</td>\n",
       "      <td>10</td>\n",
       "      <td>8/29/2013 14:43</td>\n",
       "      <td>San Jose City Hall</td>\n",
       "      <td>10</td>\n",
       "      <td>661</td>\n",
       "      <td>Subscriber</td>\n",
       "      <td>95138</td>\n",
       "    </tr>\n",
       "    <tr>\n",
       "      <th>2</th>\n",
       "      <td>4130</td>\n",
       "      <td>71</td>\n",
       "      <td>8/29/2013 10:16</td>\n",
       "      <td>Mountain View City Hall</td>\n",
       "      <td>27</td>\n",
       "      <td>8/29/2013 10:17</td>\n",
       "      <td>Mountain View City Hall</td>\n",
       "      <td>27</td>\n",
       "      <td>48</td>\n",
       "      <td>Subscriber</td>\n",
       "      <td>97214</td>\n",
       "    </tr>\n",
       "    <tr>\n",
       "      <th>3</th>\n",
       "      <td>4251</td>\n",
       "      <td>77</td>\n",
       "      <td>8/29/2013 11:29</td>\n",
       "      <td>San Jose City Hall</td>\n",
       "      <td>10</td>\n",
       "      <td>8/29/2013 11:30</td>\n",
       "      <td>San Jose City Hall</td>\n",
       "      <td>10</td>\n",
       "      <td>26</td>\n",
       "      <td>Subscriber</td>\n",
       "      <td>95060</td>\n",
       "    </tr>\n",
       "    <tr>\n",
       "      <th>4</th>\n",
       "      <td>4299</td>\n",
       "      <td>83</td>\n",
       "      <td>8/29/2013 12:02</td>\n",
       "      <td>South Van Ness at Market</td>\n",
       "      <td>66</td>\n",
       "      <td>8/29/2013 12:04</td>\n",
       "      <td>Market at 10th</td>\n",
       "      <td>67</td>\n",
       "      <td>319</td>\n",
       "      <td>Subscriber</td>\n",
       "      <td>94103</td>\n",
       "    </tr>\n",
       "  </tbody>\n",
       "</table>\n",
       "</div>"
      ],
      "text/plain": [
       "   Trip ID  Duration       Start Date             Start Station  \\\n",
       "0     4576        63  8/29/2013 14:13  South Van Ness at Market   \n",
       "1     4607        70  8/29/2013 14:42        San Jose City Hall   \n",
       "2     4130        71  8/29/2013 10:16   Mountain View City Hall   \n",
       "3     4251        77  8/29/2013 11:29        San Jose City Hall   \n",
       "4     4299        83  8/29/2013 12:02  South Van Ness at Market   \n",
       "\n",
       "   Start Terminal         End Date               End Station  End Terminal  \\\n",
       "0              66  8/29/2013 14:14  South Van Ness at Market            66   \n",
       "1              10  8/29/2013 14:43        San Jose City Hall            10   \n",
       "2              27  8/29/2013 10:17   Mountain View City Hall            27   \n",
       "3              10  8/29/2013 11:30        San Jose City Hall            10   \n",
       "4              66  8/29/2013 12:04            Market at 10th            67   \n",
       "\n",
       "   Bike # Subscription Type Zip Code  \n",
       "0     520        Subscriber    94127  \n",
       "1     661        Subscriber    95138  \n",
       "2      48        Subscriber    97214  \n",
       "3      26        Subscriber    95060  \n",
       "4     319        Subscriber    94103  "
      ]
     },
     "execution_count": 3,
     "metadata": {},
     "output_type": "execute_result"
    }
   ],
   "source": [
    "sample_data = pd.read_csv('201309_trip_data.csv')\n",
    "\n",
    "# TODO: escreva o código para visualizar as primeiras linhas\n",
    "sample_data.head()"
   ]
  },
  {
   "cell_type": "markdown",
   "metadata": {},
   "source": [
    "Nesta exploração, vamos nos concentrar nos fatores nos dados da viagem que afetam o número de viagens realizadas. Vamos focar em algumas colunas selecionadas: a duração da viagem (trip duration), hora de início (start time), terminal inicial (start terminal), terminal final (end terminal) e tipo de assinatura. O tempo de início será dividido em componentes de ano, mês e hora. Também adicionaremos uma coluna para o dia da semana e resumiremos o terminal inicial e final para ser a _cidade_ de início e fim.\n",
    "\n",
    "Vamos primeiro abordar a última parte do processo de limpeza. Execute a célula de código abaixo para ver como as informações da estação estão estruturadas e observe como o código criará o mapeamento estação-cidade. Observe que o mapeamento da estação está configurado como uma função, `create_station_mapping()`. Uma vez que é possível que mais estações sejam adicionadas ou removidas ao longo do tempo, esta função nos permitirá combinar as informações da estação em todas as três partes dos nossos dados quando estivermos prontos para explorar tudo."
   ]
  },
  {
   "cell_type": "code",
   "execution_count": 4,
   "metadata": {},
   "outputs": [
    {
     "data": {
      "text/html": [
       "<div>\n",
       "<style scoped>\n",
       "    .dataframe tbody tr th:only-of-type {\n",
       "        vertical-align: middle;\n",
       "    }\n",
       "\n",
       "    .dataframe tbody tr th {\n",
       "        vertical-align: top;\n",
       "    }\n",
       "\n",
       "    .dataframe thead th {\n",
       "        text-align: right;\n",
       "    }\n",
       "</style>\n",
       "<table border=\"1\" class=\"dataframe\">\n",
       "  <thead>\n",
       "    <tr style=\"text-align: right;\">\n",
       "      <th></th>\n",
       "      <th>station_id</th>\n",
       "      <th>name</th>\n",
       "      <th>lat</th>\n",
       "      <th>long</th>\n",
       "      <th>dockcount</th>\n",
       "      <th>landmark</th>\n",
       "      <th>installation</th>\n",
       "    </tr>\n",
       "  </thead>\n",
       "  <tbody>\n",
       "    <tr>\n",
       "      <th>0</th>\n",
       "      <td>2</td>\n",
       "      <td>San Jose Diridon Caltrain Station</td>\n",
       "      <td>37.329732</td>\n",
       "      <td>-121.901782</td>\n",
       "      <td>27</td>\n",
       "      <td>San Jose</td>\n",
       "      <td>8/6/2013</td>\n",
       "    </tr>\n",
       "    <tr>\n",
       "      <th>1</th>\n",
       "      <td>3</td>\n",
       "      <td>San Jose Civic Center</td>\n",
       "      <td>37.330698</td>\n",
       "      <td>-121.888979</td>\n",
       "      <td>15</td>\n",
       "      <td>San Jose</td>\n",
       "      <td>8/5/2013</td>\n",
       "    </tr>\n",
       "    <tr>\n",
       "      <th>2</th>\n",
       "      <td>4</td>\n",
       "      <td>Santa Clara at Almaden</td>\n",
       "      <td>37.333988</td>\n",
       "      <td>-121.894902</td>\n",
       "      <td>11</td>\n",
       "      <td>San Jose</td>\n",
       "      <td>8/6/2013</td>\n",
       "    </tr>\n",
       "    <tr>\n",
       "      <th>3</th>\n",
       "      <td>5</td>\n",
       "      <td>Adobe on Almaden</td>\n",
       "      <td>37.331415</td>\n",
       "      <td>-121.893200</td>\n",
       "      <td>19</td>\n",
       "      <td>San Jose</td>\n",
       "      <td>8/5/2013</td>\n",
       "    </tr>\n",
       "    <tr>\n",
       "      <th>4</th>\n",
       "      <td>6</td>\n",
       "      <td>San Pedro Square</td>\n",
       "      <td>37.336721</td>\n",
       "      <td>-121.894074</td>\n",
       "      <td>15</td>\n",
       "      <td>San Jose</td>\n",
       "      <td>8/7/2013</td>\n",
       "    </tr>\n",
       "  </tbody>\n",
       "</table>\n",
       "</div>"
      ],
      "text/plain": [
       "   station_id                               name        lat        long  \\\n",
       "0           2  San Jose Diridon Caltrain Station  37.329732 -121.901782   \n",
       "1           3              San Jose Civic Center  37.330698 -121.888979   \n",
       "2           4             Santa Clara at Almaden  37.333988 -121.894902   \n",
       "3           5                   Adobe on Almaden  37.331415 -121.893200   \n",
       "4           6                   San Pedro Square  37.336721 -121.894074   \n",
       "\n",
       "   dockcount  landmark installation  \n",
       "0         27  San Jose     8/6/2013  \n",
       "1         15  San Jose     8/5/2013  \n",
       "2         11  San Jose     8/6/2013  \n",
       "3         19  San Jose     8/5/2013  \n",
       "4         15  San Jose     8/7/2013  "
      ]
     },
     "execution_count": 4,
     "metadata": {},
     "output_type": "execute_result"
    }
   ],
   "source": [
    "# Mostra as primeiras linhas do arquivo de dados das estações\n",
    "station_info = pd.read_csv('201402_station_data.csv')\n",
    "station_info.head()"
   ]
  },
  {
   "cell_type": "markdown",
   "metadata": {},
   "source": [
    "Preencha a função abaixo de forma que a função retorne um mapeamento entre o id da estação (`station_id`) e a cidade em que ela se encontra (`landmark`)."
   ]
  },
  {
   "cell_type": "code",
   "execution_count": 5,
   "metadata": {},
   "outputs": [],
   "source": [
    "# esta função será usada mais tarde para criar o mapeamento entre station e cidade\n",
    "def create_station_mapping(station_data):\n",
    "    \"\"\"\n",
    "    Cria um mapeamento (tambémm conhecido como de-para) entre a estação \n",
    "    e a cidade\n",
    "    \"\"\"\n",
    "    # TODO: Inicie esta variável de maneira correta.\n",
    "    station_map = {}\n",
    "    for data_file in station_data:\n",
    "        with open(data_file, 'r') as f_in:\n",
    "            # configura o objeto csv reader - note que está sendo usado o DictReader,\n",
    "            # que usa a primeira linha do arquivo como cabeçalho e cria as chaves\n",
    "            # do dicionário com estes valores.\n",
    "            weather_reader = csv.DictReader(f_in)\n",
    "\n",
    "            for row in weather_reader:\n",
    "                # TODO: faça o mapeamento aqui\n",
    "                station_map[row['station_id']] = row['landmark'] \n",
    "    return station_map"
   ]
  },
  {
   "cell_type": "markdown",
   "metadata": {},
   "source": [
    "Você pode agora usar o mapeamento para condensar as viagens para as colunas selecionadas acima. Isto acontecerá na função abaixo `summarise_data()`. Nela o módulo `datetime` é usado para fazer o **p**arse do tempo (timestamp) em formato de strings no arquivo original para um objeto usando a função `strptime`. Este objeto permitirá a conversão para outros **f**ormatos de datas usando a função `strftime`. O objeto possui também outras funções que facilitam a manipulação dos dados. Veja [este tutorial](http://usandopython.com.br/manipulando-data-hora-python-datetime/) para entender um pouco melhor como trabalhar com a biblioteca.\n",
    "\n",
    "Você precisa concluir duas tarefas para completar a função `summarise_data()`. Inicialmente, você deverá realizar a operação de converter a duração das viagens de segundos para minutos. Esta é muito fácil, pois existem 60 segundos em um minuto!\n",
    "\n",
    "Na sequência, você deve criar colunas para o ano, mês, hora e dia da semana. Verifique o tutorial acima ou a [documentação para o objeto de datetime no módulo datetime](https://docs.python.org/2/library/datetime.html#datetime-objects). \n",
    "\n",
    "** TODO: Encontre os atributos e métodos necessários para poder completar o código abaixo **\n",
    "\n",
    "*Dica*: Você pode abrir uma nova caixa para testar um pedaço do código ou verificar uma variável que seja global. Caso ela esteja dentro da função, você também pode usar o comando `print()` para imprimi-la e ajudar no Debug."
   ]
  },
  {
   "cell_type": "code",
   "execution_count": 31,
   "metadata": {},
   "outputs": [],
   "source": [
    "def summarise_data(trip_in, station_data, trip_out):\n",
    "    \"\"\"\n",
    "    Esta função recebe informações de viagem e estação e produz um novo\n",
    "    arquivo de dados com um resumo condensado das principais informações de viagem.Os \n",
    "    argumentos trip_in e station_data serão listas de arquivos de dados para\n",
    "    as informações da viagem e da estação enquanto trip_out especifica o local\n",
    "    para o qual os dados sumarizados serão escritos.\n",
    "    \"\"\"\n",
    "    # gera o dicionário de mapeamento entre estações e cidades\n",
    "    station_map = create_station_mapping(station_data)\n",
    "    \n",
    "    with open(trip_out, 'w') as f_out:\n",
    "        # configura o objeto de escrita de csv       \n",
    "        out_colnames = ['duration', 'start_date', 'start_year',\n",
    "                        'start_month', 'start_hour', 'weekday',\n",
    "                        'start_city', 'end_city', 'subscription_type']        \n",
    "        trip_writer = csv.DictWriter(f_out, fieldnames = out_colnames)\n",
    "        trip_writer.writeheader()\n",
    "        \n",
    "        for data_file in trip_in:\n",
    "            with open(data_file, 'r') as f_in:\n",
    "                # configura o leitor do csv\n",
    "                trip_reader = csv.DictReader(f_in)\n",
    "\n",
    "                # processa cada linha lendo uma a uma\n",
    "                for row in trip_reader:\n",
    "                    new_point = {}\n",
    "                    \n",
    "                    # converte a duração de segundos para minutos.\n",
    "                    ### TODO: Pergunta 3a: Adicione uma operação matemática       ###\n",
    "                    ### para converter a duração de segundos para minutos.  ###\n",
    "                    new_point['duration'] = int(row['Duration'])/60.0\n",
    "                    \n",
    "                    # reformate strings com datas para múltiplas colunas\n",
    "                    ### TODO: Pergunta 3b: Preencha os __ abaixo para criar os        ###\n",
    "                    ### campos experados nas colunas (olhe pelo nome da coluna) ###\n",
    "                    trip_date = datetime.strptime(row['Start Date'], '%m/%d/%Y %H:%M')\n",
    "                    new_point['start_date']  = trip_date.day\n",
    "                    new_point['start_year']  = trip_date.year\n",
    "                    new_point['start_month'] = trip_date.month\n",
    "                    new_point['start_hour']  = trip_date.hour\n",
    "                    new_point['weekday']     = trip_date.strftime(\"%A\")\n",
    "                                        \n",
    "                    # TODO: mapeia o terminal de inicio e fim com o a cidade de inicio e fim\n",
    "                    new_point['start_city'] = station_map[row['Start Terminal']]\n",
    "                    new_point['end_city'] = station_map[row['End Terminal']]\n",
    "                    \n",
    "                    # TODO: existem dois nomes diferentes para o mesmo campo. Trate cada um deles.\n",
    "                    if 'Subscription Type' in row:\n",
    "                        new_point['subscription_type'] = row['Subscription Type']\n",
    "                    else:\n",
    "                        new_point['subscription_type'] = row['Subscriber Type']\n",
    "\n",
    "                    # escreve a informação processada para o arquivo de saída.\n",
    "                    trip_writer.writerow(new_point)"
   ]
  },
  {
   "cell_type": "markdown",
   "metadata": {},
   "source": [
    "# Pergunta 3: \n",
    "Execute o bloco de código abaixo para chamar a função `summarise_data()` que você terminou na célula acima. Ela usará os dados contidos nos arquivos listados nas variáveis `trip_in` e `station_data` e escreverá um novo arquivo no local especificado na variável `trip_out`. Se você executou a limpeza de dados corretamente, o bloco de código abaixo imprimirá as primeiras linhas do DataFrame e uma mensagem que verificando se as contagens de dados estão corretas."
   ]
  },
  {
   "cell_type": "code",
   "execution_count": 7,
   "metadata": {},
   "outputs": [],
   "source": [
    "# processe os dados usando a função criada acima\n",
    "station_data = ['201402_station_data.csv']\n",
    "trip_in = ['201309_trip_data.csv']\n",
    "trip_out = '201309_trip_summary.csv'\n",
    "summarise_data(trip_in, station_data, trip_out)"
   ]
  },
  {
   "cell_type": "code",
   "execution_count": 8,
   "metadata": {},
   "outputs": [
    {
     "data": {
      "text/html": [
       "<div>\n",
       "<style scoped>\n",
       "    .dataframe tbody tr th:only-of-type {\n",
       "        vertical-align: middle;\n",
       "    }\n",
       "\n",
       "    .dataframe tbody tr th {\n",
       "        vertical-align: top;\n",
       "    }\n",
       "\n",
       "    .dataframe thead th {\n",
       "        text-align: right;\n",
       "    }\n",
       "</style>\n",
       "<table border=\"1\" class=\"dataframe\">\n",
       "  <thead>\n",
       "    <tr style=\"text-align: right;\">\n",
       "      <th></th>\n",
       "      <th>duration</th>\n",
       "      <th>start_date</th>\n",
       "      <th>start_year</th>\n",
       "      <th>start_month</th>\n",
       "      <th>start_hour</th>\n",
       "      <th>weekday</th>\n",
       "      <th>start_city</th>\n",
       "      <th>end_city</th>\n",
       "      <th>subscription_type</th>\n",
       "    </tr>\n",
       "  </thead>\n",
       "  <tbody>\n",
       "    <tr>\n",
       "      <th>0</th>\n",
       "      <td>1.050000</td>\n",
       "      <td>29</td>\n",
       "      <td>2013</td>\n",
       "      <td>8</td>\n",
       "      <td>14</td>\n",
       "      <td>Thursday</td>\n",
       "      <td>Trip ID  Duration       Start Date         ...</td>\n",
       "      <td>Trip ID  Duration       Start Date         ...</td>\n",
       "      <td>Subscriber</td>\n",
       "    </tr>\n",
       "    <tr>\n",
       "      <th>1</th>\n",
       "      <td>1.166667</td>\n",
       "      <td>29</td>\n",
       "      <td>2013</td>\n",
       "      <td>8</td>\n",
       "      <td>14</td>\n",
       "      <td>Thursday</td>\n",
       "      <td>Trip ID  Duration       Start Date         ...</td>\n",
       "      <td>Trip ID  Duration       Start Date         ...</td>\n",
       "      <td>Subscriber</td>\n",
       "    </tr>\n",
       "    <tr>\n",
       "      <th>2</th>\n",
       "      <td>1.183333</td>\n",
       "      <td>29</td>\n",
       "      <td>2013</td>\n",
       "      <td>8</td>\n",
       "      <td>10</td>\n",
       "      <td>Thursday</td>\n",
       "      <td>Trip ID  Duration       Start Date         ...</td>\n",
       "      <td>Trip ID  Duration       Start Date         ...</td>\n",
       "      <td>Subscriber</td>\n",
       "    </tr>\n",
       "    <tr>\n",
       "      <th>3</th>\n",
       "      <td>1.283333</td>\n",
       "      <td>29</td>\n",
       "      <td>2013</td>\n",
       "      <td>8</td>\n",
       "      <td>11</td>\n",
       "      <td>Thursday</td>\n",
       "      <td>Trip ID  Duration       Start Date         ...</td>\n",
       "      <td>Trip ID  Duration       Start Date         ...</td>\n",
       "      <td>Subscriber</td>\n",
       "    </tr>\n",
       "    <tr>\n",
       "      <th>4</th>\n",
       "      <td>1.383333</td>\n",
       "      <td>29</td>\n",
       "      <td>2013</td>\n",
       "      <td>8</td>\n",
       "      <td>12</td>\n",
       "      <td>Thursday</td>\n",
       "      <td>Trip ID  Duration       Start Date         ...</td>\n",
       "      <td>Trip ID  Duration       Start Date         ...</td>\n",
       "      <td>Subscriber</td>\n",
       "    </tr>\n",
       "  </tbody>\n",
       "</table>\n",
       "</div>"
      ],
      "text/plain": [
       "   duration  start_date  start_year  start_month  start_hour   weekday  \\\n",
       "0  1.050000          29        2013            8          14  Thursday   \n",
       "1  1.166667          29        2013            8          14  Thursday   \n",
       "2  1.183333          29        2013            8          10  Thursday   \n",
       "3  1.283333          29        2013            8          11  Thursday   \n",
       "4  1.383333          29        2013            8          12  Thursday   \n",
       "\n",
       "                                          start_city  \\\n",
       "0     Trip ID  Duration       Start Date         ...   \n",
       "1     Trip ID  Duration       Start Date         ...   \n",
       "2     Trip ID  Duration       Start Date         ...   \n",
       "3     Trip ID  Duration       Start Date         ...   \n",
       "4     Trip ID  Duration       Start Date         ...   \n",
       "\n",
       "                                            end_city subscription_type  \n",
       "0     Trip ID  Duration       Start Date         ...        Subscriber  \n",
       "1     Trip ID  Duration       Start Date         ...        Subscriber  \n",
       "2     Trip ID  Duration       Start Date         ...        Subscriber  \n",
       "3     Trip ID  Duration       Start Date         ...        Subscriber  \n",
       "4     Trip ID  Duration       Start Date         ...        Subscriber  "
      ]
     },
     "metadata": {},
     "output_type": "display_data"
    }
   ],
   "source": [
    "# Carregue os dados novamente mostrando os dados\n",
    "## TODO: Complete o código para leitura dos dados no arquivo criado na função acima\n",
    "sample_data = pd.read_csv(trip_out)\n",
    "display(sample_data.head())"
   ]
  },
  {
   "cell_type": "code",
   "execution_count": 9,
   "metadata": {},
   "outputs": [
    {
     "name": "stdout",
     "output_type": "stream",
     "text": [
      "Todas as contagens estão como esperadas.\n"
     ]
    }
   ],
   "source": [
    "# Verifica o DataFrame contando o número de pontos de dados com as características de \n",
    "# tempo corretas.\n",
    "question_3(sample_data)"
   ]
  },
  {
   "cell_type": "markdown",
   "metadata": {},
   "source": [
    "> **Dica**: se você salvar um notebook do jupyter, a saída dos blocos de código em execução também será salva. No entanto, o estado do seu arquivo será reiniciado uma vez que uma nova sessão será iniciada. Certifique-se de que você execute todos os blocos de código necessários da sessão anterior para restabelecer variáveis e funções antes de continuar de onde você deixou na última vez."
   ]
  },
  {
   "cell_type": "markdown",
   "metadata": {},
   "source": [
    "## Análise Exploratória de Dados \n",
    "\n",
    "Agora que você tem alguns dados salvos em um arquivo, vejamos algumas tendências iniciais nos dados. Algum código já foi escrito para você no script [babs_visualizations.py](babs_visualizations.py) para ajudar a resumir e visualizar os dados; Isso foi importado como as funções `usage_stats()` e `usage_plot()`. Nesta seção, vamos percorrer algumas das coisas que você pode fazer com as funções, e você usará as funções para você mesmo na última parte do projeto. Primeiro, execute a seguinte célula para carregar os dados. Depois preencha a célula abaixo com os comandos para verificar os dados básicos sobre os dados."
   ]
  },
  {
   "cell_type": "code",
   "execution_count": 10,
   "metadata": {},
   "outputs": [
    {
     "data": {
      "text/html": [
       "<div>\n",
       "<style scoped>\n",
       "    .dataframe tbody tr th:only-of-type {\n",
       "        vertical-align: middle;\n",
       "    }\n",
       "\n",
       "    .dataframe tbody tr th {\n",
       "        vertical-align: top;\n",
       "    }\n",
       "\n",
       "    .dataframe thead th {\n",
       "        text-align: right;\n",
       "    }\n",
       "</style>\n",
       "<table border=\"1\" class=\"dataframe\">\n",
       "  <thead>\n",
       "    <tr style=\"text-align: right;\">\n",
       "      <th></th>\n",
       "      <th>duration</th>\n",
       "      <th>start_date</th>\n",
       "      <th>start_year</th>\n",
       "      <th>start_month</th>\n",
       "      <th>start_hour</th>\n",
       "      <th>weekday</th>\n",
       "      <th>start_city</th>\n",
       "      <th>end_city</th>\n",
       "      <th>subscription_type</th>\n",
       "    </tr>\n",
       "  </thead>\n",
       "  <tbody>\n",
       "    <tr>\n",
       "      <th>0</th>\n",
       "      <td>1.050000</td>\n",
       "      <td>29</td>\n",
       "      <td>2013</td>\n",
       "      <td>8</td>\n",
       "      <td>14</td>\n",
       "      <td>Thursday</td>\n",
       "      <td>Trip ID  Duration       Start Date         ...</td>\n",
       "      <td>Trip ID  Duration       Start Date         ...</td>\n",
       "      <td>Subscriber</td>\n",
       "    </tr>\n",
       "    <tr>\n",
       "      <th>1</th>\n",
       "      <td>1.166667</td>\n",
       "      <td>29</td>\n",
       "      <td>2013</td>\n",
       "      <td>8</td>\n",
       "      <td>14</td>\n",
       "      <td>Thursday</td>\n",
       "      <td>Trip ID  Duration       Start Date         ...</td>\n",
       "      <td>Trip ID  Duration       Start Date         ...</td>\n",
       "      <td>Subscriber</td>\n",
       "    </tr>\n",
       "    <tr>\n",
       "      <th>2</th>\n",
       "      <td>1.183333</td>\n",
       "      <td>29</td>\n",
       "      <td>2013</td>\n",
       "      <td>8</td>\n",
       "      <td>10</td>\n",
       "      <td>Thursday</td>\n",
       "      <td>Trip ID  Duration       Start Date         ...</td>\n",
       "      <td>Trip ID  Duration       Start Date         ...</td>\n",
       "      <td>Subscriber</td>\n",
       "    </tr>\n",
       "    <tr>\n",
       "      <th>3</th>\n",
       "      <td>1.283333</td>\n",
       "      <td>29</td>\n",
       "      <td>2013</td>\n",
       "      <td>8</td>\n",
       "      <td>11</td>\n",
       "      <td>Thursday</td>\n",
       "      <td>Trip ID  Duration       Start Date         ...</td>\n",
       "      <td>Trip ID  Duration       Start Date         ...</td>\n",
       "      <td>Subscriber</td>\n",
       "    </tr>\n",
       "    <tr>\n",
       "      <th>4</th>\n",
       "      <td>1.383333</td>\n",
       "      <td>29</td>\n",
       "      <td>2013</td>\n",
       "      <td>8</td>\n",
       "      <td>12</td>\n",
       "      <td>Thursday</td>\n",
       "      <td>Trip ID  Duration       Start Date         ...</td>\n",
       "      <td>Trip ID  Duration       Start Date         ...</td>\n",
       "      <td>Subscriber</td>\n",
       "    </tr>\n",
       "  </tbody>\n",
       "</table>\n",
       "</div>"
      ],
      "text/plain": [
       "   duration  start_date  start_year  start_month  start_hour   weekday  \\\n",
       "0  1.050000          29        2013            8          14  Thursday   \n",
       "1  1.166667          29        2013            8          14  Thursday   \n",
       "2  1.183333          29        2013            8          10  Thursday   \n",
       "3  1.283333          29        2013            8          11  Thursday   \n",
       "4  1.383333          29        2013            8          12  Thursday   \n",
       "\n",
       "                                          start_city  \\\n",
       "0     Trip ID  Duration       Start Date         ...   \n",
       "1     Trip ID  Duration       Start Date         ...   \n",
       "2     Trip ID  Duration       Start Date         ...   \n",
       "3     Trip ID  Duration       Start Date         ...   \n",
       "4     Trip ID  Duration       Start Date         ...   \n",
       "\n",
       "                                            end_city subscription_type  \n",
       "0     Trip ID  Duration       Start Date         ...        Subscriber  \n",
       "1     Trip ID  Duration       Start Date         ...        Subscriber  \n",
       "2     Trip ID  Duration       Start Date         ...        Subscriber  \n",
       "3     Trip ID  Duration       Start Date         ...        Subscriber  \n",
       "4     Trip ID  Duration       Start Date         ...        Subscriber  "
      ]
     },
     "execution_count": 10,
     "metadata": {},
     "output_type": "execute_result"
    }
   ],
   "source": [
    "trip_data = pd.read_csv('201309_trip_summary.csv')\n",
    "trip_data.head()"
   ]
  },
  {
   "cell_type": "code",
   "execution_count": 11,
   "metadata": {},
   "outputs": [
    {
     "name": "stdout",
     "output_type": "stream",
     "text": [
      "Existem 27345 pontos no conjunto de dados\n",
      "A duração média das viagens foi de 27.60 minutos\n",
      "A mediana das durações das viagens foi de 10.72 minutos\n",
      "25% das viagens foram mais curtas do que 6.82 minutos\n",
      "25% das viagens foram mais compridas do que 17.28 minutos\n"
     ]
    }
   ],
   "source": [
    "# TODO: preencha os campos com os dados de acordo com o print\n",
    "print('Existem {:d} pontos no conjunto de dados'.format(trip_data.shape[0]))\n",
    "print('A duração média das viagens foi de {:.2f} minutos'.format(trip_data['duration'].mean()))\n",
    "print('A mediana das durações das viagens foi de {:.2f} minutos'.format(trip_data['duration'].median()))\n",
    "\n",
    "# TODO: verificando os quartis\n",
    "duration_qtiles = trip_data['duration'].quantile([.25, .5, .75]).as_matrix()\n",
    "print('25% das viagens foram mais curtas do que {:.2f} minutos'.format(duration_qtiles[0]))\n",
    "print('25% das viagens foram mais compridas do que {:.2f} minutos'.format(duration_qtiles[2]))"
   ]
  },
  {
   "cell_type": "code",
   "execution_count": 12,
   "metadata": {},
   "outputs": [
    {
     "name": "stdout",
     "output_type": "stream",
     "text": [
      "Existem 27345 pontos no conjunto de dados\n",
      "A duração média das viagens foi de 27.60 minutos\n",
      "A mediana das durações das viagens foi de 10.72 minutos\n",
      "25% das viagens foram mais curtas do que 6.82 minutos\n",
      "25% das viagens foram mais compridas do que 17.28 minutos\n"
     ]
    },
    {
     "data": {
      "text/plain": [
       "array([ 6.81666667, 10.71666667, 17.28333333])"
      ]
     },
     "execution_count": 12,
     "metadata": {},
     "output_type": "execute_result"
    }
   ],
   "source": [
    "# execute este campo para verificar os seu processamento acima.\n",
    "usage_stats(trip_data)"
   ]
  },
  {
   "cell_type": "markdown",
   "metadata": {},
   "source": [
    "Você deve ver que há mais de 27.000 viagens no primeiro mês e que a duração média da viagem é maior do que a duração mediana da viagem (o ponto em que 50% das viagens são mais curtas e 50% são mais longas). Na verdade, a média é maior que as durações de 75% das viagens mais curtas. Isso será interessante para ver mais adiante.\n",
    "\n",
    "Vamos começar a ver como essas viagens são divididas por tipo de inscrição. Uma maneira fácil de construir uma intuição sobre os dados é traçá-los. \n",
    "\n",
    "Lembre-se que o Pandas possui maneiras de plotar os gráficos diretamente de um DataFrame. Para cada tipo de dados/análises se pode usar um tipo diferente de gráfico mais apropriado para a análise que se está fazendo.\n",
    "\n",
    "Na caixa abaixo, faça um gráfico de viagens x tipo de subscrição do tipo barras."
   ]
  },
  {
   "cell_type": "code",
   "execution_count": 81,
   "metadata": {},
   "outputs": [
    {
     "data": {
      "image/png": "[encoded data removed]",
      "text/plain": [
       "<Figure size 432x288 with 1 Axes>"
      ]
     },
     "metadata": {},
     "output_type": "display_data"
    }
   ],
   "source": [
    "# TODO: plote um gráfico de barras que mostre quantidade de viagens por subscription_type\n",
    "# lembrando que quando o comando .plot é usado, se pode escolher o tipo de gráfico usando \n",
    "# o parâmetro kind. Ex: plot(kind='bar')\n",
    "\n",
    "subscription_type = trip_data.groupby('subscription_type')['subscription_type'].count()\n",
    "\n",
    "plt.bar([1, 2], subscription_type, tick_label=['Customer', 'Subscriber'], color=['#4000FF', '#01DF3A']);\n",
    "\n",
    "plt.title('Numeros de Viagens por Subscription Type')\n",
    "plt.ylabel('Numeros de viagens', fontsize=12)\n",
    "plt.xlabel('Subscription Type', fontsize=12)\n",
    "plt.show()"
   ]
  },
  {
   "cell_type": "markdown",
   "metadata": {},
   "source": [
    "Para que você possa conferir se os seus gráficos estão corretos, usaremos a função `use_plot()`. O segundo argumento da função nos permite contar as viagens em uma variável selecionada, exibindo as informações em um gráfico. A expressão abaixo mostrará como deve ter ficado o seu gráfico acima."
   ]
  },
  {
   "cell_type": "code",
   "execution_count": 82,
   "metadata": {
    "scrolled": true
   },
   "outputs": [
    {
     "data": {
      "image/png": "[encoded data removed]",
      "text/plain": [
       "<Figure size 576x432 with 1 Axes>"
      ]
     },
     "metadata": {},
     "output_type": "display_data"
    }
   ],
   "source": [
    "# como o seu gráfico deve ficar. Descomente a linha abaixo caso queira rodar este comando\n",
    "usage_plot(trip_data, 'subscription_type')"
   ]
  },
  {
   "cell_type": "markdown",
   "metadata": {},
   "source": [
    ">*Nota*: Perceba que provavelmente o seu gráfico não ficou exatamente igual, principalmente pelo título e pelo nome dos eixos. Lembre-se, estes são detalhes mas fazem toda a diferença quando você for apresentar os gráficos que você analisou. Neste Nanodegree não focaremos nestas questões, mas tenha em mente que ter os gráficos acertados é de extrema importância."
   ]
  },
  {
   "cell_type": "markdown",
   "metadata": {},
   "source": [
    "Parece que existe 50% mais viagens feitas por assinantes (subscribers) no primeiro mês do que outro tipos de consumidores. Vamos tentar uma outra variável. Como é a distribuição da duração das viagens (trip duration)?"
   ]
  },
  {
   "cell_type": "code",
   "execution_count": 15,
   "metadata": {},
   "outputs": [
    {
     "data": {
      "text/plain": [
       "<matplotlib.axes._subplots.AxesSubplot at 0x7f0a64c0fd10>"
      ]
     },
     "execution_count": 15,
     "metadata": {},
     "output_type": "execute_result"
    },
    {
     "data": {
      "image/png": "[encoded data removed]",
      "text/plain": [
       "<Figure size 432x288 with 1 Axes>"
      ]
     },
     "metadata": {},
     "output_type": "display_data"
    }
   ],
   "source": [
    "# TODO: Faça um gráfico baseado nas durações\n",
    "trip_data.duration.hist()"
   ]
  },
  {
   "cell_type": "code",
   "execution_count": 16,
   "metadata": {},
   "outputs": [
    {
     "data": {
      "image/png": "[encoded data removed]",
      "text/plain": [
       "<Figure size 576x432 with 1 Axes>"
      ]
     },
     "metadata": {},
     "output_type": "display_data"
    }
   ],
   "source": [
    "# rode este comando abaixo caso esteja em dúvida quanto ao resultado esperado\n",
    "usage_plot(trip_data, 'duration')"
   ]
  },
  {
   "cell_type": "markdown",
   "metadata": {},
   "source": [
    "Parece muito estranho, não é? Dê uma olhada nos valores de duração no eixo x. A maioria dos passeios deve ser de 30 minutos ou menos, uma vez que há taxas de excesso de tempo extra em uma única viagem. A primeira barra abrange durações de até 1000 minutos, ou mais de 16 horas. Com base nas estatísticas que obtivemos do `use_stats()`, deveríamos ter esperado algumas viagens com durações muito longas que levem a média a ser muito superior à mediana: o gráfico mostra isso de forma dramática, mas inútil.\n",
    "\n",
    "Ao explorar os dados, muitas vezes você precisará trabalhar com os parâmetros da função de visualização para facilitar a compreensão dos dados. É aqui que os filtros vão ajudar você. Comecemos por limitar as  viagens de menos de 60 minutos."
   ]
  },
  {
   "cell_type": "code",
   "execution_count": 17,
   "metadata": {},
   "outputs": [
    {
     "data": {
      "text/plain": [
       "<matplotlib.axes._subplots.AxesSubplot at 0x7f0a6d81ff90>"
      ]
     },
     "execution_count": 17,
     "metadata": {},
     "output_type": "execute_result"
    },
    {
     "data": {
      "image/png": "[encoded data removed]",
      "text/plain": [
       "<Figure size 432x288 with 1 Axes>"
      ]
     },
     "metadata": {},
     "output_type": "display_data"
    }
   ],
   "source": [
    "# TODO: faça um gráfico de barras para os dados com duração inferior a 60 minutos.\n",
    "trip_data.duration[trip_data.duration < 60].hist()"
   ]
  },
  {
   "cell_type": "code",
   "execution_count": 18,
   "metadata": {},
   "outputs": [
    {
     "data": {
      "image/png": "[encoded data removed]",
      "text/plain": [
       "<Figure size 576x432 with 1 Axes>"
      ]
     },
     "metadata": {},
     "output_type": "display_data"
    }
   ],
   "source": [
    "# descomente a linha abaixo para verificar o gráfico esperado.\n",
    "usage_plot(trip_data, 'duration', ['duration < 60'])"
   ]
  },
  {
   "cell_type": "markdown",
   "metadata": {},
   "source": [
    "Isso está bem melhor! Você pode ver que a maioria das viagens têm menos de 30 minutos de duração, mas que você pode fazer mais para melhorar a apresentação. Uma vez que a duração mínima não é 0, a barra da esquerda está ligeiramente acima de 0. Nós queremos saber onde existe um limite perto dos 30 minutos, então ficará mais agradável se tivermos tamanhos de intervalos (bin sizes) e limites dos intervalos que correspondam a alguns minutos. \n",
    "\n",
    "Felizmente, o Pandas e o Matplotlib te dão a opção de resolver ester problemas. Uma das maneiras de fazê-lo é definindo qual o intervalo no eixo x (parâmetro range) e quantos intervalos desejamos (bins).\n",
    "\n",
    "No campo abaixo, faça o ajuste do gráfico para que os limites das barras se encontrem nas extremidades e que as barras tenham tamanho 5 (0, 5, 10, 15, etc). Se precisar, use a [documentação](http://matplotlib.org/api/_as_gen/matplotlib.axes.Axes.hist.html#matplotlib.axes.Axes.hist)."
   ]
  },
  {
   "cell_type": "code",
   "execution_count": 52,
   "metadata": {},
   "outputs": [
    {
     "data": {
      "text/plain": [
       "<matplotlib.axes._subplots.AxesSubplot at 0x7f0a64470a10>"
      ]
     },
     "execution_count": 52,
     "metadata": {},
     "output_type": "execute_result"
    },
    {
     "data": {
      "image/png": "[encoded data removed]",
      "text/plain": [
       "<Figure size 432x288 with 1 Axes>"
      ]
     },
     "metadata": {},
     "output_type": "display_data"
    }
   ],
   "source": [
    "# faça o gráfico ajustado que começará no 0 e terá o bin size de 5\n",
    "smaller_than_60 = trip_data.duration[trip_data.duration < 60]\n",
    "smaller_than_60.hist(bins = np.arange(0, max(smaller_than_60) + 5, 5))"
   ]
  },
  {
   "cell_type": "code",
   "execution_count": 53,
   "metadata": {},
   "outputs": [
    {
     "data": {
      "image/png": "[encoded data removed]",
      "text/plain": [
       "<Figure size 576x432 with 1 Axes>"
      ]
     },
     "metadata": {},
     "output_type": "display_data"
    }
   ],
   "source": [
    "# rode esta linha para verificar como deve ficar o seu gráfico\n",
    "usage_plot(trip_data, 'duration', ['duration < 60'], boundary = 0, bin_width = 5)"
   ]
  },
  {
   "cell_type": "markdown",
   "metadata": {},
   "source": [
    "Pequenos ajustes como este podem ser pequenos mas fazem toda a diferença na entrega de um trabalho de qualidade e com atenção aos detalhes.\n"
   ]
  },
  {
   "cell_type": "markdown",
   "metadata": {},
   "source": [
    "# Pergunta 4\n",
    "\n",
    "Analise o histograma do exercicio anterior e responda:\n",
    "\n",
    "Qual o intervalo de duração com maior quantidade de viagens?\n",
    "\n",
    "\n",
    "**Reposta**: No intervalo de 5 a 10 minutos."
   ]
  },
  {
   "cell_type": "markdown",
   "metadata": {},
   "source": [
    "# Pergunta 4.1\n",
    "\n",
    "Com base na sua resposta da pergunta anterior, conte quantas viagens existem para cada origem e destino desse intervalo de tempo. Monte uma tabela que demonstre isso. \n",
    "\n",
    "Qual origem e destino tem a maior quantidade de viagens?  Aproximadamente quantas viagens foram feitas nesta faixa de tempo?\n",
    "\n",
    "\n",
    " **Reposta**: A cidade de São Francisco possui mais viagens. Ela teve aproximadamente 256223 viagens."
   ]
  },
  {
   "cell_type": "code",
   "execution_count": 75,
   "metadata": {},
   "outputs": [
    {
     "data": {
      "text/html": [
       "<div>\n",
       "<style scoped>\n",
       "    .dataframe tbody tr th:only-of-type {\n",
       "        vertical-align: middle;\n",
       "    }\n",
       "\n",
       "    .dataframe tbody tr th {\n",
       "        vertical-align: top;\n",
       "    }\n",
       "\n",
       "    .dataframe thead th {\n",
       "        text-align: right;\n",
       "    }\n",
       "</style>\n",
       "<table border=\"1\" class=\"dataframe\">\n",
       "  <thead>\n",
       "    <tr style=\"text-align: right;\">\n",
       "      <th></th>\n",
       "      <th>start_city</th>\n",
       "      <th>end_city</th>\n",
       "      <th>0</th>\n",
       "    </tr>\n",
       "  </thead>\n",
       "  <tbody>\n",
       "    <tr>\n",
       "      <th>0</th>\n",
       "      <td>Mountain View</td>\n",
       "      <td>Mountain View</td>\n",
       "      <td>4703</td>\n",
       "    </tr>\n",
       "    <tr>\n",
       "      <th>1</th>\n",
       "      <td>Palo Alto</td>\n",
       "      <td>Palo Alto</td>\n",
       "      <td>528</td>\n",
       "    </tr>\n",
       "    <tr>\n",
       "      <th>2</th>\n",
       "      <td>Redwood City</td>\n",
       "      <td>Redwood City</td>\n",
       "      <td>711</td>\n",
       "    </tr>\n",
       "    <tr>\n",
       "      <th>3</th>\n",
       "      <td>San Francisco</td>\n",
       "      <td>San Francisco</td>\n",
       "      <td>256223</td>\n",
       "    </tr>\n",
       "    <tr>\n",
       "      <th>4</th>\n",
       "      <td>San Jose</td>\n",
       "      <td>San Jose</td>\n",
       "      <td>16386</td>\n",
       "    </tr>\n",
       "  </tbody>\n",
       "</table>\n",
       "</div>"
      ],
      "text/plain": [
       "      start_city       end_city       0\n",
       "0  Mountain View  Mountain View    4703\n",
       "1      Palo Alto      Palo Alto     528\n",
       "2   Redwood City   Redwood City     711\n",
       "3  San Francisco  San Francisco  256223\n",
       "4       San Jose       San Jose   16386"
      ]
     },
     "execution_count": 75,
     "metadata": {},
     "output_type": "execute_result"
    }
   ],
   "source": [
    "viagens_por_duracao = trip_data[(trip_data['duration']>5)& (trip_data['duration']<10)]\n",
    "viagens_por_duracao.groupby(['start_city', 'end_city'] ).size().reset_index()"
   ]
  },
  {
   "cell_type": "markdown",
   "metadata": {
    "collapsed": true
   },
   "source": [
    "## Fazendo suas Próprias Análises\n",
    "\n",
    "Agora que você fez alguma exploração em uma pequena amostra do conjunto de dados, é hora de avançar e reunir todos os dados em um único arquivo e ver quais tendências você pode encontrar. O código abaixo usará a mesma função `summarise_data()` para processar dados. Depois de executar a célula abaixo, você terá processado todos os dados em um único arquivo de dados. Observe que a função não exibirá qualquer saída enquanto ele é executado, e isso pode demorar um pouco para ser concluído, pois você tem muito mais dados do que a amostra com a qual você trabalhou."
   ]
  },
  {
   "cell_type": "code",
   "execution_count": 76,
   "metadata": {},
   "outputs": [],
   "source": [
    "station_data = ['201402_station_data.csv',\n",
    "                '201408_station_data.csv',\n",
    "                '201508_station_data.csv' ]\n",
    "trip_in = ['201402_trip_data.csv',\n",
    "           '201408_trip_data.csv',\n",
    "           '201508_trip_data.csv' ]\n",
    "trip_out = 'babs_y1_y2_summary.csv'\n",
    "\n",
    "# Esta função irá ler as informações das estações e das viagens\n",
    "# e escreverá um arquivo processado com o nome trip_out\n",
    "summarise_data(trip_in, station_data, trip_out)"
   ]
  },
  {
   "cell_type": "markdown",
   "metadata": {},
   "source": [
    "Já que a função `summarise_data()` escreveu um arquivo de saída, a célula acima não precisa ser rodada novamente mesmo que este notebook seja fechado e uma nova sessão seja criada. Você pode simplesmente ler os dados novamente e fazer a exploração deste ponto (não esqueça de executar a parte das funções no começo do notebook caso esteja em uma nova sessão)"
   ]
  },
  {
   "cell_type": "code",
   "execution_count": 77,
   "metadata": {},
   "outputs": [
    {
     "data": {
      "text/html": [
       "<div>\n",
       "<style scoped>\n",
       "    .dataframe tbody tr th:only-of-type {\n",
       "        vertical-align: middle;\n",
       "    }\n",
       "\n",
       "    .dataframe tbody tr th {\n",
       "        vertical-align: top;\n",
       "    }\n",
       "\n",
       "    .dataframe thead th {\n",
       "        text-align: right;\n",
       "    }\n",
       "</style>\n",
       "<table border=\"1\" class=\"dataframe\">\n",
       "  <thead>\n",
       "    <tr style=\"text-align: right;\">\n",
       "      <th></th>\n",
       "      <th>duration</th>\n",
       "      <th>start_date</th>\n",
       "      <th>start_year</th>\n",
       "      <th>start_month</th>\n",
       "      <th>start_hour</th>\n",
       "      <th>weekday</th>\n",
       "      <th>start_city</th>\n",
       "      <th>end_city</th>\n",
       "      <th>subscription_type</th>\n",
       "    </tr>\n",
       "  </thead>\n",
       "  <tbody>\n",
       "    <tr>\n",
       "      <th>0</th>\n",
       "      <td>1.050000</td>\n",
       "      <td>29</td>\n",
       "      <td>2013</td>\n",
       "      <td>8</td>\n",
       "      <td>14</td>\n",
       "      <td>Thursday</td>\n",
       "      <td>San Francisco</td>\n",
       "      <td>San Francisco</td>\n",
       "      <td>Subscriber</td>\n",
       "    </tr>\n",
       "    <tr>\n",
       "      <th>1</th>\n",
       "      <td>1.166667</td>\n",
       "      <td>29</td>\n",
       "      <td>2013</td>\n",
       "      <td>8</td>\n",
       "      <td>14</td>\n",
       "      <td>Thursday</td>\n",
       "      <td>San Jose</td>\n",
       "      <td>San Jose</td>\n",
       "      <td>Subscriber</td>\n",
       "    </tr>\n",
       "    <tr>\n",
       "      <th>2</th>\n",
       "      <td>1.183333</td>\n",
       "      <td>29</td>\n",
       "      <td>2013</td>\n",
       "      <td>8</td>\n",
       "      <td>10</td>\n",
       "      <td>Thursday</td>\n",
       "      <td>Mountain View</td>\n",
       "      <td>Mountain View</td>\n",
       "      <td>Subscriber</td>\n",
       "    </tr>\n",
       "    <tr>\n",
       "      <th>3</th>\n",
       "      <td>1.283333</td>\n",
       "      <td>29</td>\n",
       "      <td>2013</td>\n",
       "      <td>8</td>\n",
       "      <td>11</td>\n",
       "      <td>Thursday</td>\n",
       "      <td>San Jose</td>\n",
       "      <td>San Jose</td>\n",
       "      <td>Subscriber</td>\n",
       "    </tr>\n",
       "    <tr>\n",
       "      <th>4</th>\n",
       "      <td>1.383333</td>\n",
       "      <td>29</td>\n",
       "      <td>2013</td>\n",
       "      <td>8</td>\n",
       "      <td>12</td>\n",
       "      <td>Thursday</td>\n",
       "      <td>San Francisco</td>\n",
       "      <td>San Francisco</td>\n",
       "      <td>Subscriber</td>\n",
       "    </tr>\n",
       "  </tbody>\n",
       "</table>\n",
       "</div>"
      ],
      "text/plain": [
       "   duration  start_date  start_year  start_month  start_hour   weekday  \\\n",
       "0  1.050000          29        2013            8          14  Thursday   \n",
       "1  1.166667          29        2013            8          14  Thursday   \n",
       "2  1.183333          29        2013            8          10  Thursday   \n",
       "3  1.283333          29        2013            8          11  Thursday   \n",
       "4  1.383333          29        2013            8          12  Thursday   \n",
       "\n",
       "      start_city       end_city subscription_type  \n",
       "0  San Francisco  San Francisco        Subscriber  \n",
       "1       San Jose       San Jose        Subscriber  \n",
       "2  Mountain View  Mountain View        Subscriber  \n",
       "3       San Jose       San Jose        Subscriber  \n",
       "4  San Francisco  San Francisco        Subscriber  "
      ]
     },
     "metadata": {},
     "output_type": "display_data"
    }
   ],
   "source": [
    "trip_data = pd.read_csv('babs_y1_y2_summary.csv')\n",
    "display(trip_data.head())"
   ]
  },
  {
   "cell_type": "markdown",
   "metadata": {},
   "source": [
    "#### Agora é a SUA vez de fazer a exploração do dataset (do conjunto de dados) completo.\n",
    "\n",
    "Aproveite para fazer filtros nos dados e tentar encontrar padrões nos dados."
   ]
  },
  {
   "cell_type": "markdown",
   "metadata": {},
   "source": [
    "Explore algumas variáveis diferentes usando o mesmo racional acima e tome nota de algumas tendências que você encontra. Sinta-se livre para criar células adicionais se quiser explorar o conjunto de dados de outras maneiras ou de várias maneiras.\n",
    "\n",
    "> **Dica**: para adicionar células adicionais a um notebook, você pode usar as opções \"Inserir célula acima\" (Insert Cell Above) e \"Insert Cell Below\" na barra de menu acima. Há também um ícone na barra de ferramentas para adicionar novas células, com ícones adicionais para mover as células para cima e para baixo do documento. Por padrão, as novas células são do tipo de código; Você também pode especificar o tipo de célula (por exemplo, Código ou Markdown) das células selecionadas no menu Cell ou no menu dropdown na barra de ferramentas.\n",
    "\n",
    "Um feito com suas explorações, copie as duas visualizações que você achou mais interessantes nas células abaixo e responda as seguintes perguntas com algumas frases descrevendo o que você encontrou e por que você selecionou os números. Certifique-se de que você ajusta o número de caixas ou os limites da bandeja para que efetivamente transmitam os resultados dos dados. Sinta-se livre para complementar isso com quaisquer números adicionais gerados a partir de `use_stats()` ou coloque visualizações múltiplas para suportar suas observações."
   ]
  },
  {
   "cell_type": "markdown",
   "metadata": {},
   "source": [
    "Para ver alguns outros tipos de gráficos que o matplotlib (padrão do Pandas) possui, leia [este artigo](https://www.labri.fr/perso/nrougier/teaching/matplotlib/#other-types-of-plots). \n",
    "\n",
    "Para entender um pouco mais como e quais gráficos podem ser úteis, leia [este documento](https://www.tableau.com/sites/default/files/media/Whitepapers/which_chart_v6_ptb.pdf). Ele lhe dará um pouco de idéia de como mostrar os dados de forma mais acertada"
   ]
  },
  {
   "cell_type": "markdown",
   "metadata": {},
   "source": [
    "# Pergunta 5a\n",
    "Explore os dados e faça um gráfico que demonstre alguma particularidade dos dados:"
   ]
  },
  {
   "cell_type": "code",
   "execution_count": 78,
   "metadata": {},
   "outputs": [
    {
     "data": {
      "text/html": [
       "<div>\n",
       "<style scoped>\n",
       "    .dataframe tbody tr th:only-of-type {\n",
       "        vertical-align: middle;\n",
       "    }\n",
       "\n",
       "    .dataframe tbody tr th {\n",
       "        vertical-align: top;\n",
       "    }\n",
       "\n",
       "    .dataframe thead th {\n",
       "        text-align: right;\n",
       "    }\n",
       "</style>\n",
       "<table border=\"1\" class=\"dataframe\">\n",
       "  <thead>\n",
       "    <tr style=\"text-align: right;\">\n",
       "      <th>subscription_type</th>\n",
       "      <th>Customer</th>\n",
       "      <th>Subscriber</th>\n",
       "    </tr>\n",
       "    <tr>\n",
       "      <th>start_month</th>\n",
       "      <th></th>\n",
       "      <th></th>\n",
       "    </tr>\n",
       "  </thead>\n",
       "  <tbody>\n",
       "    <tr>\n",
       "      <th>1</th>\n",
       "      <td>6182</td>\n",
       "      <td>46086</td>\n",
       "    </tr>\n",
       "    <tr>\n",
       "      <th>2</th>\n",
       "      <td>5172</td>\n",
       "      <td>40253</td>\n",
       "    </tr>\n",
       "    <tr>\n",
       "      <th>3</th>\n",
       "      <td>7883</td>\n",
       "      <td>48336</td>\n",
       "    </tr>\n",
       "  </tbody>\n",
       "</table>\n",
       "</div>"
      ],
      "text/plain": [
       "subscription_type  Customer  Subscriber\n",
       "start_month                            \n",
       "1                      6182       46086\n",
       "2                      5172       40253\n",
       "3                      7883       48336"
      ]
     },
     "execution_count": 78,
     "metadata": {},
     "output_type": "execute_result"
    }
   ],
   "source": [
    "search = pd.crosstab(trip_data['start_month'],trip_data['subscription_type'])\n",
    "search.head(3)"
   ]
  },
  {
   "cell_type": "code",
   "execution_count": 79,
   "metadata": {},
   "outputs": [
    {
     "data": {
      "image/png": "[encoded data removed]",
      "text/plain": [
       "<Figure size 720x432 with 1 Axes>"
      ]
     },
     "metadata": {},
     "output_type": "display_data"
    }
   ],
   "source": [
    "# Gráfico final 1\n",
    "\n",
    "search.plot(kind='bar', figsize=(10,6))\n",
    "\n",
    "plt.title('Numero de Subscription Type por Mes')\n",
    "plt.ylabel('Numeros de viagens', fontsize=14)\n",
    "plt.xlabel('Mes', fontsize=14)\n",
    "plt.show()"
   ]
  },
  {
   "cell_type": "markdown",
   "metadata": {},
   "source": [
    "O que é interessante na visualização acima? Por que você a selecionou?\n",
    "\n",
    "**Answer**: A partir do gráfico é possível analisar os meses que tem um aumento na quantidade de Customers o que pode facilitar em um possível programa de captação de novos assinantes. "
   ]
  },
  {
   "cell_type": "markdown",
   "metadata": {},
   "source": [
    "# Pergunta 5b\n",
    "Faça um gráfico que demonstre alguma particularidade dos dados:"
   ]
  },
  {
   "cell_type": "code",
   "execution_count": 73,
   "metadata": {},
   "outputs": [
    {
     "data": {
      "image/png": "[encoded data removed]",
      "text/plain": [
       "<Figure size 720x432 with 1 Axes>"
      ]
     },
     "metadata": {},
     "output_type": "display_data"
    }
   ],
   "source": [
    "# Gráfico Final 2\n",
    "\n",
    "search = pd.crosstab(trip_data['weekday'],trip_data['start_year'])\n",
    "\n",
    "search.plot(kind='bar', figsize=(10,6))\n",
    "\n",
    "plt.title('Acessos por dia da semana a cada ano')\n",
    "plt.ylabel('Numeros de viagens', fontsize=14)\n",
    "plt.xlabel('Dia da semana', fontsize=14)\n",
    "plt.show()"
   ]
  },
  {
   "cell_type": "markdown",
   "metadata": {},
   "source": [
    "O que é interessante na visualização acima? Por que você a selecionou?\n",
    "\n",
    "**Answer**: Com esse gráfico podemos verificar os dias da semana com menores empréstimos podendo encontrar mandeiras de melhorar a captação nesses dias. Essa visualização facilita inclusive no trabalho de manutenção com as bicicletas. Em quais dias precisariam de mais funcionários, por exemplo."
   ]
  },
  {
   "cell_type": "markdown",
   "metadata": {},
   "source": [
    "## Conclusões\n",
    "\n",
    "Parabéns pela conclusão do projeto! Esta é apenas uma amostragem do processo de análise de dados: gerando perguntas, limpando e explorando os dados. Normalmente, neste momento no processo de análise de dados, você pode querer tirar conclusões realizando um teste estatístico ou ajustando os dados a um modelo para fazer previsões. Há também muitas análises potenciais que podem ser realizadas se evoluirmos o código fornecido. Em vez de apenas olhar para o número de viagens no eixo de resultados, você pode ver quais recursos afetam coisas como a duração da viagem. Nós também não analisamos como os dados meteorológicos se encaixam no uso de bicicletas."
   ]
  },
  {
   "cell_type": "markdown",
   "metadata": {},
   "source": [
    "# Pergunta 6\n",
    "Pense em um tópico ou campo de interesse onde você gostaria de poder aplicar as técnicas da ciência dos dados. O que você gostaria de aprender com o assunto escolhido?\n",
    "\n",
    "**Responda**: Trabalho em um centro de treinamento e acredito que a análise dos dados nos resultados obtidos durante os treinamentos pode melhorar os cursos."
   ]
  },
  {
   "cell_type": "markdown",
   "metadata": {},
   "source": [
    "> **Dica**: se quisermos compartilhar os resultados de nossa análise com os outros, existe uma outra opção que não é enviar o arquivo jupyter Notebook (.ipynb). Também podemos exportar a saída do Notebook de uma forma que pode ser aberto mesmo para aqueles sem o Python instalado. No menu **File** na parte superior esquerda, vá para o submenu **Download as**. Você pode então escolher um formato diferente que pode ser visto de forma mais geral, como HTML (.html) ou PDF (.pdf). Você pode precisar de pacotes adicionais ou software para executar essas exportações."
   ]
  },
  {
   "cell_type": "code",
   "execution_count": null,
   "metadata": {},
   "outputs": [],
   "source": []
  }
 ],
 "metadata": {
  "anaconda-cloud": {},
  "kernelspec": {
   "display_name": "Python 2",
   "language": "python",
   "name": "python2"
  },
  "language_info": {
   "codemirror_mode": {
    "name": "ipython",
    "version": 2
   },
   "file_extension": ".py",
   "mimetype": "text/x-python",
   "name": "python",
   "nbconvert_exporter": "python",
   "pygments_lexer": "ipython2",
   "version": "2.7.14"
  }
 },
 "nbformat": 4,
 "nbformat_minor": 1
}
